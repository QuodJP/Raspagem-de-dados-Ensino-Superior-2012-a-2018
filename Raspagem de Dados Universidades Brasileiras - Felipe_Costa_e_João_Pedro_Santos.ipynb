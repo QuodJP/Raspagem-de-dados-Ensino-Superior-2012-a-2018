{
 "cells": [
  {
   "cell_type": "code",
   "execution_count": 1,
   "metadata": {},
   "outputs": [],
   "source": [
    "import pandas as pd\n",
    "low_memory=False\n",
    "%matplotlib inline\n",
    "pd.options.display.max_columns= 10\n",
    "pd.options.display.max_rows=5"
   ]
  },
  {
   "cell_type": "code",
   "execution_count": 2,
   "metadata": {},
   "outputs": [
    {
     "name": "stdout",
     "output_type": "stream",
     "text": [
      "Index(['NU_ANO_CENSO', 'CO_IES', 'TP_CATEGORIA_ADMINISTRATIVA',\n",
      "       'TP_ORGANIZACAO_ACADEMICA', 'CO_DOCENTE_IES', 'ID_DOCENTE',\n",
      "       'TP_SITUACAO', 'TP_ESCOLARIDADE', 'TP_REGIME_TRABALHO', 'TP_SEXO',\n",
      "       'NU_ANO_NASCIMENTO', 'NU_MES_NASCIMENTO', 'NU_DIA_NASCIMENTO',\n",
      "       'NU_IDADE', 'TP_COR_RACA', 'CO_PAIS_ORIGEM', 'TP_NACIONALIDADE',\n",
      "       'CO_UF_NASCIMENTO', 'CO_MUNICIPIO_NASCIMENTO', 'IN_DEFICIENCIA',\n",
      "       'IN_DEFICIENCIA_CEGUEIRA', 'IN_DEFICIENCIA_BAIXA_VISAO',\n",
      "       'IN_DEFICIENCIA_SURDEZ', 'IN_DEFICIENCIA_AUDITIVA',\n",
      "       'IN_DEFICIENCIA_FISICA', 'IN_DEFICIENCIA_SURDOCEGUEIRA',\n",
      "       'IN_DEFICIENCIA_MULTIPLA', 'IN_DEFICIENCIA_INTELECTUAL',\n",
      "       'IN_ATUACAO_EAD', 'IN_ATUACAO_EXTENSAO', 'IN_ATUACAO_GESTAO',\n",
      "       'IN_ATUACAO_GRAD_PRESENCIAL', 'IN_ATUACAO_POS_EAD',\n",
      "       'IN_ATUACAO_POS_PRESENCIAL', 'IN_ATUACAO_SEQUENCIAL',\n",
      "       'IN_ATUACAO_PESQUISA', 'IN_BOLSA_PESQUISA', 'IN_SUBSTITUTO',\n",
      "       'IN_EXERCICIO_DATA_REFERENCIA', 'IN_VISITANTE',\n",
      "       'TP_VISITANTE_IFES_VINCULO'],\n",
      "      dtype='object')\n"
     ]
    }
   ],
   "source": [
    "#Importar o arquvi .csv 2018\n",
    "filename2018 = 'DM_DOCENTE_2018.CSV'\n",
    "df2018 = pd.read_csv(filename2018, sep='|', error_bad_lines=False, encoding='latin-1')\n",
    "print(df2018.columns)"
   ]
  },
  {
   "cell_type": "code",
   "execution_count": 3,
   "metadata": {},
   "outputs": [],
   "source": [
    "#Nome das colunas\n",
    "df2018=df2018.drop(columns=['NU_ANO_CENSO', 'CO_IES', \n",
    "       'TP_ORGANIZACAO_ACADEMICA', 'CO_DOCENTE_IES', 'ID_DOCENTE',\n",
    "       'TP_SITUACAO', 'TP_REGIME_TRABALHO', 'NU_ANO_NASCIMENTO', 'NU_MES_NASCIMENTO', 'NU_DIA_NASCIMENTO',\n",
    "       'CO_PAIS_ORIGEM', 'TP_NACIONALIDADE',\n",
    "       'CO_UF_NASCIMENTO', 'CO_MUNICIPIO_NASCIMENTO', 'IN_DEFICIENCIA',\n",
    "       'IN_DEFICIENCIA_CEGUEIRA', 'IN_DEFICIENCIA_BAIXA_VISAO',\n",
    "       'IN_DEFICIENCIA_SURDEZ', 'IN_DEFICIENCIA_AUDITIVA',\n",
    "       'IN_DEFICIENCIA_FISICA', 'IN_DEFICIENCIA_SURDOCEGUEIRA',\n",
    "       'IN_DEFICIENCIA_MULTIPLA', 'IN_DEFICIENCIA_INTELECTUAL',\n",
    "       'IN_ATUACAO_EAD', 'IN_ATUACAO_EXTENSAO', 'IN_ATUACAO_GESTAO',\n",
    "       'IN_ATUACAO_GRAD_PRESENCIAL', 'IN_ATUACAO_POS_EAD',\n",
    "       'IN_ATUACAO_POS_PRESENCIAL', 'IN_ATUACAO_SEQUENCIAL',\n",
    "       'IN_ATUACAO_PESQUISA', 'IN_BOLSA_PESQUISA', 'IN_SUBSTITUTO',\n",
    "       'IN_EXERCICIO_DATA_REFERENCIA', 'IN_VISITANTE',\n",
    "       'TP_VISITANTE_IFES_VINCULO'], axis=1)"
   ]
  },
  {
   "cell_type": "code",
   "execution_count": 4,
   "metadata": {},
   "outputs": [],
   "source": [
    "#Mudar nome das colunas\n",
    "df2018=df2018.rename(columns={'TP_CATEGORIA_ADMINISTRATIVA': 'Categoria_Administrativa', 'TP_ESCOLARIDADE':'Escolaridade', 'TP_SEXO':'Genero', 'NU_IDADE':'Idade', 'TP_COR_RACA':'Cor'})"
   ]
  },
  {
   "cell_type": "code",
   "execution_count": 5,
   "metadata": {},
   "outputs": [
    {
     "data": {
      "text/html": [
       "<div>\n",
       "<style scoped>\n",
       "    .dataframe tbody tr th:only-of-type {\n",
       "        vertical-align: middle;\n",
       "    }\n",
       "\n",
       "    .dataframe tbody tr th {\n",
       "        vertical-align: top;\n",
       "    }\n",
       "\n",
       "    .dataframe thead th {\n",
       "        text-align: right;\n",
       "    }\n",
       "</style>\n",
       "<table border=\"1\" class=\"dataframe\">\n",
       "  <thead>\n",
       "    <tr style=\"text-align: right;\">\n",
       "      <th></th>\n",
       "      <th>Categoria_Administrativa</th>\n",
       "      <th>Escolaridade</th>\n",
       "      <th>Genero</th>\n",
       "      <th>Idade</th>\n",
       "      <th>Cor</th>\n",
       "    </tr>\n",
       "  </thead>\n",
       "  <tbody>\n",
       "    <tr>\n",
       "      <th>0</th>\n",
       "      <td>1</td>\n",
       "      <td>5</td>\n",
       "      <td>2</td>\n",
       "      <td>61</td>\n",
       "      <td>3</td>\n",
       "    </tr>\n",
       "    <tr>\n",
       "      <th>1</th>\n",
       "      <td>1</td>\n",
       "      <td>5</td>\n",
       "      <td>2</td>\n",
       "      <td>66</td>\n",
       "      <td>3</td>\n",
       "    </tr>\n",
       "    <tr>\n",
       "      <th>...</th>\n",
       "      <td>...</td>\n",
       "      <td>...</td>\n",
       "      <td>...</td>\n",
       "      <td>...</td>\n",
       "      <td>...</td>\n",
       "    </tr>\n",
       "    <tr>\n",
       "      <th>397891</th>\n",
       "      <td>2</td>\n",
       "      <td>5</td>\n",
       "      <td>2</td>\n",
       "      <td>63</td>\n",
       "      <td>0</td>\n",
       "    </tr>\n",
       "    <tr>\n",
       "      <th>397892</th>\n",
       "      <td>2</td>\n",
       "      <td>4</td>\n",
       "      <td>2</td>\n",
       "      <td>49</td>\n",
       "      <td>0</td>\n",
       "    </tr>\n",
       "  </tbody>\n",
       "</table>\n",
       "<p>397893 rows × 5 columns</p>\n",
       "</div>"
      ],
      "text/plain": [
       "        Categoria_Administrativa  Escolaridade  Genero  Idade  Cor\n",
       "0                              1             5       2     61    3\n",
       "1                              1             5       2     66    3\n",
       "...                          ...           ...     ...    ...  ...\n",
       "397891                         2             5       2     63    0\n",
       "397892                         2             4       2     49    0\n",
       "\n",
       "[397893 rows x 5 columns]"
      ]
     },
     "execution_count": 5,
     "metadata": {},
     "output_type": "execute_result"
    }
   ],
   "source": [
    "df2018"
   ]
  },
  {
   "cell_type": "code",
   "execution_count": 6,
   "metadata": {
    "scrolled": true
   },
   "outputs": [
    {
     "data": {
      "text/html": [
       "<div>\n",
       "<style scoped>\n",
       "    .dataframe tbody tr th:only-of-type {\n",
       "        vertical-align: middle;\n",
       "    }\n",
       "\n",
       "    .dataframe tbody tr th {\n",
       "        vertical-align: top;\n",
       "    }\n",
       "\n",
       "    .dataframe thead th {\n",
       "        text-align: right;\n",
       "    }\n",
       "</style>\n",
       "<table border=\"1\" class=\"dataframe\">\n",
       "  <thead>\n",
       "    <tr style=\"text-align: right;\">\n",
       "      <th></th>\n",
       "      <th>Categoria_Administrativa</th>\n",
       "      <th>Escolaridade</th>\n",
       "      <th>Genero</th>\n",
       "      <th>Idade</th>\n",
       "      <th>Cor</th>\n",
       "    </tr>\n",
       "  </thead>\n",
       "  <tbody>\n",
       "    <tr>\n",
       "      <th>0</th>\n",
       "      <td>1</td>\n",
       "      <td>2</td>\n",
       "      <td>0</td>\n",
       "      <td>28</td>\n",
       "      <td>6</td>\n",
       "    </tr>\n",
       "    <tr>\n",
       "      <th>1</th>\n",
       "      <td>1</td>\n",
       "      <td>3</td>\n",
       "      <td>1</td>\n",
       "      <td>27</td>\n",
       "      <td>6</td>\n",
       "    </tr>\n",
       "    <tr>\n",
       "      <th>...</th>\n",
       "      <td>...</td>\n",
       "      <td>...</td>\n",
       "      <td>...</td>\n",
       "      <td>...</td>\n",
       "      <td>...</td>\n",
       "    </tr>\n",
       "    <tr>\n",
       "      <th>378937</th>\n",
       "      <td>5</td>\n",
       "      <td>5</td>\n",
       "      <td>1</td>\n",
       "      <td>46</td>\n",
       "      <td>1</td>\n",
       "    </tr>\n",
       "    <tr>\n",
       "      <th>378938</th>\n",
       "      <td>4</td>\n",
       "      <td>5</td>\n",
       "      <td>1</td>\n",
       "      <td>46</td>\n",
       "      <td>1</td>\n",
       "    </tr>\n",
       "  </tbody>\n",
       "</table>\n",
       "<p>378939 rows × 5 columns</p>\n",
       "</div>"
      ],
      "text/plain": [
       "        Categoria_Administrativa  Escolaridade  Genero  Idade  Cor\n",
       "0                              1             2       0     28    6\n",
       "1                              1             3       1     27    6\n",
       "...                          ...           ...     ...    ...  ...\n",
       "378937                         5             5       1     46    1\n",
       "378938                         4             5       1     46    1\n",
       "\n",
       "[378939 rows x 5 columns]"
      ]
     },
     "execution_count": 6,
     "metadata": {},
     "output_type": "execute_result"
    }
   ],
   "source": [
    "#CSV 2012\n",
    "filename2012 = 'DM_DOCENTENOVO_2012.CSV'\n",
    "df2012 = pd.read_csv(filename2012, sep=',', error_bad_lines=False, encoding='latin-1')\n",
    "df2012"
   ]
  },
  {
   "cell_type": "code",
   "execution_count": 7,
   "metadata": {},
   "outputs": [
    {
     "data": {
      "text/html": [
       "<div>\n",
       "<style scoped>\n",
       "    .dataframe tbody tr th:only-of-type {\n",
       "        vertical-align: middle;\n",
       "    }\n",
       "\n",
       "    .dataframe tbody tr th {\n",
       "        vertical-align: top;\n",
       "    }\n",
       "\n",
       "    .dataframe thead th {\n",
       "        text-align: right;\n",
       "    }\n",
       "</style>\n",
       "<table border=\"1\" class=\"dataframe\">\n",
       "  <thead>\n",
       "    <tr style=\"text-align: right;\">\n",
       "      <th></th>\n",
       "      <th>Categoria_Administrativa</th>\n",
       "      <th>Escolaridade</th>\n",
       "      <th>Genero</th>\n",
       "      <th>Idade</th>\n",
       "      <th>Cor</th>\n",
       "    </tr>\n",
       "  </thead>\n",
       "  <tbody>\n",
       "    <tr>\n",
       "      <th>0</th>\n",
       "      <td>1</td>\n",
       "      <td>2</td>\n",
       "      <td>0</td>\n",
       "      <td>28</td>\n",
       "      <td>6</td>\n",
       "    </tr>\n",
       "    <tr>\n",
       "      <th>1</th>\n",
       "      <td>1</td>\n",
       "      <td>3</td>\n",
       "      <td>1</td>\n",
       "      <td>27</td>\n",
       "      <td>6</td>\n",
       "    </tr>\n",
       "    <tr>\n",
       "      <th>...</th>\n",
       "      <td>...</td>\n",
       "      <td>...</td>\n",
       "      <td>...</td>\n",
       "      <td>...</td>\n",
       "      <td>...</td>\n",
       "    </tr>\n",
       "    <tr>\n",
       "      <th>378937</th>\n",
       "      <td>5</td>\n",
       "      <td>5</td>\n",
       "      <td>1</td>\n",
       "      <td>46</td>\n",
       "      <td>1</td>\n",
       "    </tr>\n",
       "    <tr>\n",
       "      <th>378938</th>\n",
       "      <td>4</td>\n",
       "      <td>5</td>\n",
       "      <td>1</td>\n",
       "      <td>46</td>\n",
       "      <td>1</td>\n",
       "    </tr>\n",
       "  </tbody>\n",
       "</table>\n",
       "<p>378939 rows × 5 columns</p>\n",
       "</div>"
      ],
      "text/plain": [
       "        Categoria_Administrativa  Escolaridade  Genero  Idade  Cor\n",
       "0                              1             2       0     28    6\n",
       "1                              1             3       1     27    6\n",
       "...                          ...           ...     ...    ...  ...\n",
       "378937                         5             5       1     46    1\n",
       "378938                         4             5       1     46    1\n",
       "\n",
       "[378939 rows x 5 columns]"
      ]
     },
     "execution_count": 7,
     "metadata": {},
     "output_type": "execute_result"
    }
   ],
   "source": [
    "#CSV 2015\n",
    "filename2015 = 'DM_DOCENTENOVO_2015.CSV'\n",
    "df2015 = pd.read_csv(filename2012, sep=',', error_bad_lines=False, encoding='latin-1')\n",
    "df2015"
   ]
  },
  {
   "cell_type": "code",
   "execution_count": 23,
   "metadata": {},
   "outputs": [
    {
     "data": {
      "text/plain": [
       "[171597, 171597, 184079]"
      ]
     },
     "execution_count": 23,
     "metadata": {},
     "output_type": "execute_result"
    }
   ],
   "source": [
    "#Separação dos dados por gênero\n",
    "\n",
    "\n",
    "\n",
    "masc_gen_1 = df2012[df2012.Genero == 0].values.tolist()\n",
    "fem_gen_2 = df2012[df2012.Genero == 1].values.tolist()\n",
    "masc_gen_3 = df2015[df2015.Genero == 0].values.tolist()\n",
    "fem_gen_4 = df2015[df2015.Genero == 1].values.tolist()\n",
    "masc_gen_5 = df2018[df2018.Genero == 2].values.tolist()\n",
    "fem_gen_6 = df2018[df2018.Genero == 1].values.tolist()\n",
    "\n",
    "\n",
    "\n",
    "\n",
    "gen_masc = [len(masc_gen_1),len(masc_gen_3),len(masc_gen_5)]\n",
    "gen_fem = [len(fem_gen_2),len(fem_gen_4),len(fem_gen_6)]\n",
    "\n",
    "gen_fem"
   ]
  },
  {
   "cell_type": "code",
   "execution_count": 24,
   "metadata": {},
   "outputs": [
    {
     "data": {
      "text/html": [
       "<div>\n",
       "<style scoped>\n",
       "    .dataframe tbody tr th:only-of-type {\n",
       "        vertical-align: middle;\n",
       "    }\n",
       "\n",
       "    .dataframe tbody tr th {\n",
       "        vertical-align: top;\n",
       "    }\n",
       "\n",
       "    .dataframe thead th {\n",
       "        text-align: right;\n",
       "    }\n",
       "</style>\n",
       "<table border=\"1\" class=\"dataframe\">\n",
       "  <thead>\n",
       "    <tr style=\"text-align: right;\">\n",
       "      <th></th>\n",
       "      <th>Masculino</th>\n",
       "      <th>Feminino</th>\n",
       "    </tr>\n",
       "  </thead>\n",
       "  <tbody>\n",
       "    <tr>\n",
       "      <th>2012</th>\n",
       "      <td>207342</td>\n",
       "      <td>171597</td>\n",
       "    </tr>\n",
       "    <tr>\n",
       "      <th>2015</th>\n",
       "      <td>207342</td>\n",
       "      <td>171597</td>\n",
       "    </tr>\n",
       "    <tr>\n",
       "      <th>2018</th>\n",
       "      <td>213814</td>\n",
       "      <td>184079</td>\n",
       "    </tr>\n",
       "  </tbody>\n",
       "</table>\n",
       "</div>"
      ],
      "text/plain": [
       "      Masculino  Feminino\n",
       "2012     207342    171597\n",
       "2015     207342    171597\n",
       "2018     213814    184079"
      ]
     },
     "execution_count": 24,
     "metadata": {},
     "output_type": "execute_result"
    }
   ],
   "source": [
    "df_gen = pd.DataFrame({'Masculino': gen_masc, 'Feminino': gen_fem}, \n",
    "                      index=['2012','2015','2018'])\n",
    "df_gen"
   ]
  },
  {
   "cell_type": "code",
   "execution_count": 32,
   "metadata": {},
   "outputs": [
    {
     "data": {
      "image/png": "[encoded data removed]",
      "text/plain": [
       "<Figure size 1080x504 with 1 Axes>"
      ]
     },
     "metadata": {
      "needs_background": "light"
     },
     "output_type": "display_data"
    }
   ],
   "source": [
    "ax = df_gen.plot.bar(rot=0, figsize=(15,7))\n",
    "ax.set_xlabel('Gênero',fontsize=16)\n",
    "ax.set_ylabel('Quantidade',fontsize=20)\n",
    "ax.set_ylim(0, 220000)\n",
    "ax.grid(linestyle='-.', linewidth='0.5', color='black')\n",
    "ax.xaxis.grid()\n",
    "ax.set_axisbelow(True)"
   ]
  },
  {
   "cell_type": "code",
   "execution_count": 11,
   "metadata": {},
   "outputs": [
    {
     "data": {
      "text/plain": [
       "[95615, 95615, 123761]"
      ]
     },
     "execution_count": 11,
     "metadata": {},
     "output_type": "execute_result"
    }
   ],
   "source": [
    "#OFerta de Docentes por Categoria Administrativa\n",
    "df2012_adm_1 = df2012[df2012.Categoria_Administrativa == 1].values.tolist()\n",
    "df2012_adm_2 = df2012[df2012.Categoria_Administrativa == 2].values.tolist()\n",
    "df2012_adm_3 = df2012[df2012.Categoria_Administrativa == 3].values.tolist()\n",
    "df2012_adm_4 = df2012[df2012.Categoria_Administrativa == 4].values.tolist()\n",
    "df2012_adm_5 = df2012[df2012.Categoria_Administrativa == 5].values.tolist()\n",
    "df2012_adm_6 = df2012[df2012.Categoria_Administrativa == 6].values.tolist()\n",
    "\n",
    "df2015_adm_1 = df2015[df2015.Categoria_Administrativa == 1].values.tolist()\n",
    "df2015_adm_2 = df2015[df2015.Categoria_Administrativa == 2].values.tolist()\n",
    "df2015_adm_3 = df2015[df2015.Categoria_Administrativa == 3].values.tolist()\n",
    "df2015_adm_4 = df2015[df2015.Categoria_Administrativa == 4].values.tolist()\n",
    "df2015_adm_5 = df2015[df2015.Categoria_Administrativa == 5].values.tolist()\n",
    "df2015_adm_7 = df2015[df2015.Categoria_Administrativa == 7].values.tolist()\n",
    "\n",
    "df2018_adm_1 = df2018[df2018.Categoria_Administrativa == 1].values.tolist()\n",
    "df2018_adm_2 = df2018[df2018.Categoria_Administrativa == 2].values.tolist()\n",
    "df2018_adm_3 = df2018[df2018.Categoria_Administrativa == 3].values.tolist()\n",
    "df2018_adm_4 = df2018[df2018.Categoria_Administrativa == 4].values.tolist()\n",
    "df2018_adm_5 = df2018[df2018.Categoria_Administrativa == 5].values.tolist()\n",
    "df2018_adm_7 = df2018[df2018.Categoria_Administrativa == 7].values.tolist()\n",
    "\n",
    "\n",
    "adm_fed= [len(df2012_adm_1),len(df2015_adm_1),len(df2018_adm_1)]\n",
    "adm_est= [len(df2012_adm_2),len(df2015_adm_2),len(df2018_adm_2)]\n",
    "adm_mun= [len(df2012_adm_3),len(df2015_adm_3),len(df2018_adm_3)]\n",
    "adm_pri= [len(df2012_adm_4)+len(df2012_adm_5),len(df2015_adm_4)+len(df2015_adm_5),len(df2018_adm_4)+len(df2018_adm_5)]\n",
    "adm_esp= [len(df2012_adm_6),len(df2015_adm_7),len(df2018_adm_7)]\n",
    "\n",
    "\n",
    "adm_fed"
   ]
  },
  {
   "cell_type": "code",
   "execution_count": 12,
   "metadata": {},
   "outputs": [
    {
     "data": {
      "text/html": [
       "<div>\n",
       "<style scoped>\n",
       "    .dataframe tbody tr th:only-of-type {\n",
       "        vertical-align: middle;\n",
       "    }\n",
       "\n",
       "    .dataframe tbody tr th {\n",
       "        vertical-align: top;\n",
       "    }\n",
       "\n",
       "    .dataframe thead th {\n",
       "        text-align: right;\n",
       "    }\n",
       "</style>\n",
       "<table border=\"1\" class=\"dataframe\">\n",
       "  <thead>\n",
       "    <tr style=\"text-align: right;\">\n",
       "      <th></th>\n",
       "      <th>Federal</th>\n",
       "      <th>Estadual</th>\n",
       "      <th>Municipal</th>\n",
       "      <th>Privada</th>\n",
       "      <th>Especial</th>\n",
       "    </tr>\n",
       "  </thead>\n",
       "  <tbody>\n",
       "    <tr>\n",
       "      <th>2012</th>\n",
       "      <td>95615</td>\n",
       "      <td>52494</td>\n",
       "      <td>4337</td>\n",
       "      <td>218565</td>\n",
       "      <td>7928</td>\n",
       "    </tr>\n",
       "    <tr>\n",
       "      <th>2015</th>\n",
       "      <td>95615</td>\n",
       "      <td>52494</td>\n",
       "      <td>4337</td>\n",
       "      <td>218565</td>\n",
       "      <td>0</td>\n",
       "    </tr>\n",
       "    <tr>\n",
       "      <th>2018</th>\n",
       "      <td>123761</td>\n",
       "      <td>53182</td>\n",
       "      <td>4768</td>\n",
       "      <td>214224</td>\n",
       "      <td>1958</td>\n",
       "    </tr>\n",
       "  </tbody>\n",
       "</table>\n",
       "</div>"
      ],
      "text/plain": [
       "      Federal  Estadual  Municipal  Privada  Especial\n",
       "2012    95615     52494       4337   218565      7928\n",
       "2015    95615     52494       4337   218565         0\n",
       "2018   123761     53182       4768   214224      1958"
      ]
     },
     "execution_count": 12,
     "metadata": {},
     "output_type": "execute_result"
    }
   ],
   "source": [
    "df_adm = pd.DataFrame({'Federal': adm_fed, 'Estadual': adm_est, 'Municipal':adm_mun, 'Privada':adm_pri, 'Especial':adm_esp }, \n",
    "                      index=['2012','2015','2018'])\n",
    "df_adm"
   ]
  },
  {
   "cell_type": "code",
   "execution_count": 13,
   "metadata": {},
   "outputs": [
    {
     "data": {
      "image/png": "[encoded data removed]",
      "text/plain": [
       "<Figure size 1080x504 with 1 Axes>"
      ]
     },
     "metadata": {
      "needs_background": "light"
     },
     "output_type": "display_data"
    }
   ],
   "source": [
    "ax = df_adm.plot.bar(rot=0,figsize=(15,7))\n",
    "ax.set_xlabel('Oferta de Docentes por Categoria Administrativa',fontsize=16)\n",
    "ax.set_ylabel('Quantidade',fontsize=20)\n",
    "ax.set_ylim(0, 220000)\n",
    "ax.grid(linestyle='-.', linewidth='0.5', color='black')\n",
    "ax.xaxis.grid()\n",
    "ax.set_axisbelow(True)"
   ]
  },
  {
   "cell_type": "code",
   "execution_count": 14,
   "metadata": {},
   "outputs": [
    {
     "data": {
      "text/plain": [
       "[100138, 100138, 66741]"
      ]
     },
     "execution_count": 14,
     "metadata": {},
     "output_type": "execute_result"
    }
   ],
   "source": [
    "#Número de docentes por Escolaridade\n",
    "df2012_esc_1 = df2012[df2012.Escolaridade == 1].values.tolist()\n",
    "df2012_esc_2 = df2012[df2012.Escolaridade == 2].values.tolist()\n",
    "df2012_esc_3 = df2012[df2012.Escolaridade == 3].values.tolist()\n",
    "df2012_esc_4 = df2012[df2012.Escolaridade == 4].values.tolist()\n",
    "df2012_esc_5 = df2012[df2012.Escolaridade == 5].values.tolist()\n",
    "\n",
    "\n",
    "df2015_esc_1 = df2015[df2015.Escolaridade == 1].values.tolist()\n",
    "df2015_esc_2 = df2015[df2015.Escolaridade == 2].values.tolist()\n",
    "df2015_esc_3 = df2015[df2015.Escolaridade == 3].values.tolist()\n",
    "df2015_esc_4 = df2015[df2015.Escolaridade == 4].values.tolist()\n",
    "df2015_esc_5 = df2015[df2015.Escolaridade == 5].values.tolist()\n",
    "\n",
    "df2018_esc_1 = df2018[df2018.Escolaridade == 1].values.tolist()\n",
    "df2018_esc_2 = df2018[df2018.Escolaridade == 2].values.tolist()\n",
    "df2018_esc_3 = df2018[df2018.Escolaridade == 3].values.tolist()\n",
    "df2018_esc_4 = df2018[df2018.Escolaridade == 4].values.tolist()\n",
    "df2018_esc_5 = df2018[df2018.Escolaridade == 5].values.tolist()\n",
    "\n",
    "esc_1= [len(df2012_esc_1),len(df2015_esc_1),len(df2018_esc_1)]\n",
    "esc_2= [len(df2012_esc_2),len(df2015_esc_2),len(df2018_esc_2)]\n",
    "esc_3= [len(df2012_esc_3),len(df2015_esc_3),len(df2018_esc_3)]\n",
    "esc_4= [len(df2012_esc_4),len(df2015_esc_4),len(df2018_esc_4)]\n",
    "esc_5= [len(df2012_esc_5),len(df2015_esc_5),len(df2018_esc_5)]\n",
    "\n",
    "\n",
    "esc_3"
   ]
  },
  {
   "cell_type": "code",
   "execution_count": 15,
   "metadata": {},
   "outputs": [
    {
     "data": {
      "text/html": [
       "<div>\n",
       "<style scoped>\n",
       "    .dataframe tbody tr th:only-of-type {\n",
       "        vertical-align: middle;\n",
       "    }\n",
       "\n",
       "    .dataframe tbody tr th {\n",
       "        vertical-align: top;\n",
       "    }\n",
       "\n",
       "    .dataframe thead th {\n",
       "        text-align: right;\n",
       "    }\n",
       "</style>\n",
       "<table border=\"1\" class=\"dataframe\">\n",
       "  <thead>\n",
       "    <tr style=\"text-align: right;\">\n",
       "      <th></th>\n",
       "      <th>Sem Graduação</th>\n",
       "      <th>Graduação</th>\n",
       "      <th>Especialização</th>\n",
       "      <th>Mestrado</th>\n",
       "      <th>Doutorado</th>\n",
       "    </tr>\n",
       "  </thead>\n",
       "  <tbody>\n",
       "    <tr>\n",
       "      <th>2012</th>\n",
       "      <td>107</td>\n",
       "      <td>12161</td>\n",
       "      <td>100138</td>\n",
       "      <td>147876</td>\n",
       "      <td>118657</td>\n",
       "    </tr>\n",
       "    <tr>\n",
       "      <th>2015</th>\n",
       "      <td>107</td>\n",
       "      <td>12161</td>\n",
       "      <td>100138</td>\n",
       "      <td>147876</td>\n",
       "      <td>118657</td>\n",
       "    </tr>\n",
       "    <tr>\n",
       "      <th>2018</th>\n",
       "      <td>20</td>\n",
       "      <td>3982</td>\n",
       "      <td>66741</td>\n",
       "      <td>156182</td>\n",
       "      <td>170968</td>\n",
       "    </tr>\n",
       "  </tbody>\n",
       "</table>\n",
       "</div>"
      ],
      "text/plain": [
       "      Sem Graduação  Graduação  Especialização  Mestrado  Doutorado\n",
       "2012            107      12161          100138    147876     118657\n",
       "2015            107      12161          100138    147876     118657\n",
       "2018             20       3982           66741    156182     170968"
      ]
     },
     "execution_count": 15,
     "metadata": {},
     "output_type": "execute_result"
    }
   ],
   "source": [
    "df_esc = pd.DataFrame({'Sem Graduação': esc_1, 'Graduação': esc_2, 'Especialização':esc_3, 'Mestrado':esc_4, 'Doutorado':esc_5 }, \n",
    "                      index=['2012','2015','2018'])\n",
    "df_esc"
   ]
  },
  {
   "cell_type": "code",
   "execution_count": 16,
   "metadata": {},
   "outputs": [
    {
     "data": {
      "image/png": "[encoded data removed]",
      "text/plain": [
       "<Figure size 1080x504 with 1 Axes>"
      ]
     },
     "metadata": {
      "needs_background": "light"
     },
     "output_type": "display_data"
    }
   ],
   "source": [
    "ax = df_esc.plot.bar(rot=0,figsize=(15,7))\n",
    "ax.set_xlabel('Escolaridade dos Docentes',fontsize=16)\n",
    "ax.set_ylabel('Quantidade',fontsize=20)\n",
    "ax.set_ylim(0, 220000)\n",
    "ax.grid(linestyle='-.', linewidth='0.5', color='black')\n",
    "ax.xaxis.grid()\n",
    "ax.set_axisbelow(True)"
   ]
  },
  {
   "cell_type": "code",
   "execution_count": 17,
   "metadata": {},
   "outputs": [
    {
     "data": {
      "text/plain": [
       "[180052, 180052, 210430]"
      ]
     },
     "execution_count": 17,
     "metadata": {},
     "output_type": "execute_result"
    }
   ],
   "source": [
    "#Número de docentes por Cor\n",
    "df2012_cor_1 = df2012[df2012.Cor == 1].values.tolist()\n",
    "df2012_cor_2 = df2012[df2012.Cor == 2].values.tolist()\n",
    "df2012_cor_3 = df2012[df2012.Cor == 3].values.tolist()\n",
    "df2012_cor_4 = df2012[df2012.Cor == 4].values.tolist()\n",
    "df2012_cor_5 = df2012[df2012.Cor == 5].values.tolist()\n",
    "df2012_cor_6 = df2012[df2012.Cor == 6].values.tolist()\n",
    "df2012_cor_7 = df2012[df2012.Cor == 0].values.tolist()\n",
    "\n",
    "df2015_cor_1 = df2015[df2015.Cor == 1].values.tolist()\n",
    "df2015_cor_2 = df2015[df2015.Cor == 2].values.tolist()\n",
    "df2015_cor_3 = df2015[df2015.Cor == 3].values.tolist()\n",
    "df2015_cor_4 = df2015[df2015.Cor == 4].values.tolist()\n",
    "df2015_cor_5 = df2015[df2015.Cor == 5].values.tolist()\n",
    "df2015_cor_6 = df2015[df2015.Cor == 6].values.tolist()\n",
    "df2015_cor_7 = df2015[df2015.Cor == 0].values.tolist()\n",
    "\n",
    "\n",
    "df2018_cor_1 = df2018[df2018.Cor == 1].values.tolist()\n",
    "df2018_cor_2 = df2018[df2018.Cor == 2].values.tolist()\n",
    "df2018_cor_3 = df2018[df2018.Cor == 3].values.tolist()\n",
    "df2018_cor_4 = df2018[df2018.Cor == 4].values.tolist()\n",
    "df2018_cor_5 = df2018[df2018.Cor == 5].values.tolist()\n",
    "df2018_cor_6 = df2018[df2018.Cor == 9].values.tolist()\n",
    "df2018_cor_7 = df2018[df2018.Cor == 0].values.tolist()\n",
    "\n",
    "\n",
    "cor_1= [len(df2012_cor_1),len(df2015_cor_1),len(df2018_cor_1)]\n",
    "cor_2_3= [len(df2012_cor_2)+len(df2012_cor_3),len(df2015_cor_2)+len(df2015_cor_3),len(df2018_cor_2)+len(df2018_cor_3)]\n",
    "cor_4= [len(df2012_cor_4),len(df2015_cor_4),len(df2018_cor_4)]\n",
    "cor_5= [len(df2012_cor_5),len(df2015_cor_5),len(df2018_cor_5)]\n",
    "cor_6_7= [len(df2012_cor_6)+len(df2012_cor_7),len(df2015_cor_6)+len(df2012_cor_7),len(df2018_cor_6)+len(df2012_cor_7)]\n",
    "\n",
    "cor_1"
   ]
  },
  {
   "cell_type": "code",
   "execution_count": 18,
   "metadata": {},
   "outputs": [
    {
     "data": {
      "text/html": [
       "<div>\n",
       "<style scoped>\n",
       "    .dataframe tbody tr th:only-of-type {\n",
       "        vertical-align: middle;\n",
       "    }\n",
       "\n",
       "    .dataframe tbody tr th {\n",
       "        vertical-align: top;\n",
       "    }\n",
       "\n",
       "    .dataframe thead th {\n",
       "        text-align: right;\n",
       "    }\n",
       "</style>\n",
       "<table border=\"1\" class=\"dataframe\">\n",
       "  <thead>\n",
       "    <tr style=\"text-align: right;\">\n",
       "      <th></th>\n",
       "      <th>Branca</th>\n",
       "      <th>Preta e Parda</th>\n",
       "      <th>Amarela</th>\n",
       "      <th>Indígena</th>\n",
       "      <th>Não dispoem ou não quis declarar</th>\n",
       "    </tr>\n",
       "  </thead>\n",
       "  <tbody>\n",
       "    <tr>\n",
       "      <th>2012</th>\n",
       "      <td>180052</td>\n",
       "      <td>50145</td>\n",
       "      <td>2927</td>\n",
       "      <td>377</td>\n",
       "      <td>145438</td>\n",
       "    </tr>\n",
       "    <tr>\n",
       "      <th>2015</th>\n",
       "      <td>180052</td>\n",
       "      <td>50145</td>\n",
       "      <td>2927</td>\n",
       "      <td>377</td>\n",
       "      <td>145438</td>\n",
       "    </tr>\n",
       "    <tr>\n",
       "      <th>2018</th>\n",
       "      <td>210430</td>\n",
       "      <td>65249</td>\n",
       "      <td>3883</td>\n",
       "      <td>499</td>\n",
       "      <td>82152</td>\n",
       "    </tr>\n",
       "  </tbody>\n",
       "</table>\n",
       "</div>"
      ],
      "text/plain": [
       "      Branca  Preta e Parda  Amarela  Indígena  \\\n",
       "2012  180052          50145     2927       377   \n",
       "2015  180052          50145     2927       377   \n",
       "2018  210430          65249     3883       499   \n",
       "\n",
       "      Não dispoem ou não quis declarar  \n",
       "2012                            145438  \n",
       "2015                            145438  \n",
       "2018                             82152  "
      ]
     },
     "execution_count": 18,
     "metadata": {},
     "output_type": "execute_result"
    }
   ],
   "source": [
    "df_cor = pd.DataFrame({'Branca': cor_1, 'Preta e Parda': cor_2_3, 'Amarela':cor_4, 'Indígena':cor_5, 'Não dispoem ou não quis declarar':cor_6_7, }, \n",
    "                      index=['2012','2015','2018'])\n",
    "df_cor"
   ]
  },
  {
   "cell_type": "code",
   "execution_count": 19,
   "metadata": {},
   "outputs": [
    {
     "data": {
      "image/png": "[encoded data removed]",
      "text/plain": [
       "<Figure size 1080x504 with 1 Axes>"
      ]
     },
     "metadata": {
      "needs_background": "light"
     },
     "output_type": "display_data"
    }
   ],
   "source": [
    "ax = df_cor.plot.bar(rot=0,figsize=(15,7))\n",
    "ax.set_xlabel('Docentes por Cor',fontsize=16)\n",
    "ax.set_ylabel('Quantidade',fontsize=20)\n",
    "ax.set_ylim(0, 250000)\n",
    "ax.grid(linestyle='-.', linewidth='0.5', color='black')\n",
    "ax.xaxis.grid()\n",
    "ax.set_axisbelow(True)"
   ]
  },
  {
   "cell_type": "code",
   "execution_count": 20,
   "metadata": {},
   "outputs": [],
   "source": [
    "#Idade dos Docentes\n",
    "df2012_idade_1 = df2012[df2012.Idade <=30].values.tolist() #de 19 a 30\n",
    "df2012_idade_2 = df2012[df2012.Idade <=40].values.tolist() #de 31 a 40\n",
    "df2012_idade_3 = df2012[df2012.Idade <=50].values.tolist() #de 41 a 50\n",
    "df2012_idade_4 = df2012[df2012.Idade <=60].values.tolist() #de 51 a 60\n",
    "df2012_idade_5 = df2012[df2012.Idade >=61].values.tolist() #>61\n",
    "\n",
    "df2015_idade_1 = df2015[df2015.Idade <=30].values.tolist() #de 19 a 30\n",
    "df2015_idade_2 = df2015[df2015.Idade <=40].values.tolist() #de 31 a 40\n",
    "df2015_idade_3 = df2015[df2015.Idade <=50].values.tolist() #de 41 a 50\n",
    "df2015_idade_4 = df2015[df2015.Idade <=60].values.tolist() #de 51 a 60\n",
    "df2015_idade_5 = df2015[df2015.Idade >=61].values.tolist() #>61\n",
    "\n",
    "df2018_idade_1 = df2018[df2018.Idade <=30].values.tolist() #de 19 a 30\n",
    "df2018_idade_2 = df2018[df2018.Idade <=40].values.tolist() #de 31 a 40\n",
    "df2018_idade_3 = df2018[df2018.Idade <=50].values.tolist() #de 41 a 50\n",
    "df2018_idade_4 = df2018[df2018.Idade <=60].values.tolist() #de 51 a 60\n",
    "df2018_idade_5 = df2018[df2018.Idade >=61].values.tolist() #>61\n",
    "\n",
    "\n",
    "idade_1 = [len(df2012_idade_1),len(df2015_idade_1),len(df2018_idade_1)]\n",
    "idade_2 = [len(df2012_idade_2)-len(df2012_idade_1),len(df2015_idade_2)-len(df2015_idade_1),len(df2018_idade_2)-len(df2018_idade_1)]\n",
    "idade_3 = [len(df2012_idade_3)-len(df2012_idade_2),len(df2015_idade_3)-len(df2015_idade_2),len(df2018_idade_3)-len(df2018_idade_2)]\n",
    "idade_4 = [len(df2012_idade_4)-len(df2012_idade_3),len(df2015_idade_4)-len(df2015_idade_3),len(df2018_idade_4)-len(df2018_idade_3)]\n",
    "idade_5 = [len(df2012_idade_5),len(df2015_idade_5),len(df2018_idade_5)]\n"
   ]
  },
  {
   "cell_type": "code",
   "execution_count": 21,
   "metadata": {},
   "outputs": [
    {
     "data": {
      "text/html": [
       "<div>\n",
       "<style scoped>\n",
       "    .dataframe tbody tr th:only-of-type {\n",
       "        vertical-align: middle;\n",
       "    }\n",
       "\n",
       "    .dataframe tbody tr th {\n",
       "        vertical-align: top;\n",
       "    }\n",
       "\n",
       "    .dataframe thead th {\n",
       "        text-align: right;\n",
       "    }\n",
       "</style>\n",
       "<table border=\"1\" class=\"dataframe\">\n",
       "  <thead>\n",
       "    <tr style=\"text-align: right;\">\n",
       "      <th></th>\n",
       "      <th>19 a 30 anos</th>\n",
       "      <th>31 a 40 anos</th>\n",
       "      <th>41 a 50 anos</th>\n",
       "      <th>51 a 60 anos</th>\n",
       "      <th>&gt; 61 anos</th>\n",
       "    </tr>\n",
       "  </thead>\n",
       "  <tbody>\n",
       "    <tr>\n",
       "      <th>2012</th>\n",
       "      <td>39872</td>\n",
       "      <td>129862</td>\n",
       "      <td>109204</td>\n",
       "      <td>70064</td>\n",
       "      <td>29937</td>\n",
       "    </tr>\n",
       "    <tr>\n",
       "      <th>2015</th>\n",
       "      <td>39872</td>\n",
       "      <td>129862</td>\n",
       "      <td>109204</td>\n",
       "      <td>70064</td>\n",
       "      <td>29937</td>\n",
       "    </tr>\n",
       "    <tr>\n",
       "      <th>2018</th>\n",
       "      <td>30551</td>\n",
       "      <td>134858</td>\n",
       "      <td>114402</td>\n",
       "      <td>80291</td>\n",
       "      <td>37791</td>\n",
       "    </tr>\n",
       "  </tbody>\n",
       "</table>\n",
       "</div>"
      ],
      "text/plain": [
       "      19 a 30 anos  31 a 40 anos  41 a 50 anos  51 a 60 anos  > 61 anos\n",
       "2012         39872        129862        109204         70064      29937\n",
       "2015         39872        129862        109204         70064      29937\n",
       "2018         30551        134858        114402         80291      37791"
      ]
     },
     "execution_count": 21,
     "metadata": {},
     "output_type": "execute_result"
    }
   ],
   "source": [
    "df_idade = pd.DataFrame({'19 a 30 anos':idade_1,'31 a 40 anos':idade_2,'41 a 50 anos':idade_3,'51 a 60 anos':idade_4,'> 61 anos':idade_5}, index=['2012','2015','2018'])\n",
    "df_idade"
   ]
  },
  {
   "cell_type": "code",
   "execution_count": 22,
   "metadata": {},
   "outputs": [
    {
     "data": {
      "image/png": "[encoded data removed]",
      "text/plain": [
       "<Figure size 1080x504 with 1 Axes>"
      ]
     },
     "metadata": {
      "needs_background": "light"
     },
     "output_type": "display_data"
    }
   ],
   "source": [
    "ax = df_idade.plot.bar(rot=0,figsize=(15,7))\n",
    "ax.set_xlabel('Docentes por Idade',fontsize=16)\n",
    "ax.set_ylabel('Quantidade',fontsize=20)\n",
    "ax.set_ylim(0, 150000)\n",
    "ax.grid(linestyle='-.', linewidth='0.5', color='black')\n",
    "ax.xaxis.grid()\n",
    "ax.set_axisbelow(True)"
   ]
  },
  {
   "cell_type": "code",
   "execution_count": null,
   "metadata": {},
   "outputs": [],
   "source": []
  }
 ],
 "metadata": {
  "kernelspec": {
   "display_name": "Python 3",
   "language": "python",
   "name": "python3"
  },
  "language_info": {
   "codemirror_mode": {
    "name": "ipython",
    "version": 3
   },
   "file_extension": ".py",
   "mimetype": "text/x-python",
   "name": "python",
   "nbconvert_exporter": "python",
   "pygments_lexer": "ipython3",
   "version": "3.7.4"
  }
 },
 "nbformat": 4,
 "nbformat_minor": 2
}
